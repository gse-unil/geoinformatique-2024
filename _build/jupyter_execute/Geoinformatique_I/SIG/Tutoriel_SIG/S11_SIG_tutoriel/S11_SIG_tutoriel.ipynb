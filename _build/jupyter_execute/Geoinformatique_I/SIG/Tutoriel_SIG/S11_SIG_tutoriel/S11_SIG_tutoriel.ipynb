{
 "cells": [
  {
   "cell_type": "markdown",
   "metadata": {},
   "source": [
    "## Tutoriel 11 - Analyse Spatiale I : Analyses de surface, analyse multicritère. traitements raster\n",
    "\n",
    "Dans cette section, nous aborderons les points suivants:\n",
    "\n",
    "- Analyses de terrain sur MNT\n",
    "- Analyses par contraintes et facteurs\n",
    "- Reclasser les valeurs d'un raster et extraire des valeurs par point ou par zone"
   ]
  }
 ],
 "metadata": {
  "language_info": {
   "codemirror_mode": {
    "name": "ipython",
    "version": 3
   },
   "file_extension": ".py",
   "mimetype": "text/x-python",
   "name": "python",
   "nbconvert_exporter": "python",
   "pygments_lexer": "ipython3",
   "version": "3.9.18"
  }
 },
 "nbformat": 4,
 "nbformat_minor": 2
}