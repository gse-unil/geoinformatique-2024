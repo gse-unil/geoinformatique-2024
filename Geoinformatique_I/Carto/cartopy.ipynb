{
 "cells": [
  {
   "cell_type": "markdown",
   "id": "7a028bcb",
   "metadata": {},
   "source": [
    "# Intro to Cartopy"
   ]
  },
  {
   "cell_type": "code",
   "execution_count": 7,
   "id": "8210fb18",
   "metadata": {},
   "outputs": [],
   "source": [
    "import numpy as np"
   ]
  },
  {
   "cell_type": "code",
   "execution_count": 8,
   "id": "8ed63df7",
   "metadata": {},
   "outputs": [],
   "source": [
    "a = np.zeros((2,3), dtype=np.float32)"
   ]
  },
  {
   "cell_type": "code",
   "execution_count": 9,
   "id": "4558ae59",
   "metadata": {},
   "outputs": [],
   "source": [
    "a += 3.141"
   ]
  },
  {
   "cell_type": "code",
   "execution_count": 10,
   "id": "6954f39b",
   "metadata": {},
   "outputs": [
    {
     "data": {
      "text/plain": [
       "array([[3.141, 3.141, 3.141],\n",
       "       [3.141, 3.141, 3.141]], dtype=float32)"
      ]
     },
     "execution_count": 10,
     "metadata": {},
     "output_type": "execute_result"
    }
   ],
   "source": [
    "a"
   ]
  },
  {
   "cell_type": "code",
   "execution_count": null,
   "id": "c8217040",
   "metadata": {},
   "outputs": [],
   "source": []
  }
 ],
 "metadata": {
  "kernelspec": {
   "display_name": "Python 3 (ipykernel)",
   "language": "python",
   "name": "python3"
  },
  "language_info": {
   "codemirror_mode": {
    "name": "ipython",
    "version": 3
   },
   "file_extension": ".py",
   "mimetype": "text/x-python",
   "name": "python",
   "nbconvert_exporter": "python",
   "pygments_lexer": "ipython3",
   "version": "3.10.12"
  }
 },
 "nbformat": 4,
 "nbformat_minor": 5
}
